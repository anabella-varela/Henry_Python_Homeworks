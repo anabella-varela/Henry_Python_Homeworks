{
 "cells": [
  {
   "attachments": {},
   "cell_type": "markdown",
   "metadata": {},
   "source": [
    "## Flujos de Control"
   ]
  },
  {
   "attachments": {},
   "cell_type": "markdown",
   "metadata": {},
   "source": [
    "1) Crear una variable que contenga un elemento del conjunto de números enteros y luego imprimir por pantalla si es mayor o menor a cero"
   ]
  },
  {
   "cell_type": "code",
   "execution_count": 3,
   "metadata": {},
   "outputs": [
    {
     "name": "stdout",
     "output_type": "stream",
     "text": [
      "5 es mayor a cero\n"
     ]
    }
   ],
   "source": [
    "x=5\n",
    "if x > 0:\n",
    "    print(x, \"es mayor a cero\")\n",
    "else:\n",
    "    print(x, \"es menor que 0\")"
   ]
  },
  {
   "attachments": {},
   "cell_type": "markdown",
   "metadata": {},
   "source": [
    "2) Crear dos variables y un condicional que informe si son del mismo tipo de dato"
   ]
  },
  {
   "cell_type": "code",
   "execution_count": 3,
   "metadata": {},
   "outputs": [
    {
     "name": "stdout",
     "output_type": "stream",
     "text": [
      "the two variables are not of the same type\n"
     ]
    }
   ],
   "source": [
    "a = 3\n",
    "b = 'hola'\n",
    "if type(a) == type(b):\n",
    "    print('the two variables are of the same datatype')\n",
    "else:\n",
    "    print('the two variables are not of the same type')"
   ]
  },
  {
   "attachments": {},
   "cell_type": "markdown",
   "metadata": {},
   "source": [
    "3) Para los valores enteros del 1 al 20, imprimir por pantalla si es par o impar"
   ]
  },
  {
   "cell_type": "code",
   "execution_count": 12,
   "metadata": {},
   "outputs": [
    {
     "name": "stdout",
     "output_type": "stream",
     "text": [
      "1 is an uneaven number\n",
      "2 is an eaven number\n",
      "3 is an uneaven number\n",
      "4 is an eaven number\n",
      "5 is an uneaven number\n",
      "6 is an eaven number\n",
      "7 is an uneaven number\n",
      "8 is an eaven number\n",
      "9 is an uneaven number\n",
      "10 is an eaven number\n",
      "11 is an uneaven number\n",
      "12 is an eaven number\n",
      "13 is an uneaven number\n",
      "14 is an eaven number\n",
      "15 is an uneaven number\n",
      "16 is an eaven number\n",
      "17 is an uneaven number\n",
      "18 is an eaven number\n",
      "19 is an uneaven number\n",
      "20 is an eaven number\n"
     ]
    }
   ],
   "source": [
    "for num in range(1, 21):\n",
    "    if num % 2 == 0:\n",
    "        print (num, 'is an eaven number')\n",
    "    else:\n",
    "        print (num, 'is an uneaven number')"
   ]
  },
  {
   "attachments": {},
   "cell_type": "markdown",
   "metadata": {},
   "source": [
    "4) En un ciclo for mostrar para los valores entre 0 y 5 el resultado de elevarlo a la potencia igual a 3"
   ]
  },
  {
   "cell_type": "code",
   "execution_count": 13,
   "metadata": {},
   "outputs": [
    {
     "name": "stdout",
     "output_type": "stream",
     "text": [
      "0\n",
      "1\n",
      "8\n",
      "27\n",
      "64\n",
      "125\n"
     ]
    }
   ],
   "source": [
    "for num in range (0, 6):\n",
    "    print( num **3 )"
   ]
  },
  {
   "attachments": {},
   "cell_type": "markdown",
   "metadata": {},
   "source": [
    "5) Crear una variable que contenga un número entero y realizar un ciclo for la misma cantidad de ciclos"
   ]
  },
  {
   "cell_type": "code",
   "execution_count": 17,
   "metadata": {},
   "outputs": [
    {
     "name": "stdout",
     "output_type": "stream",
     "text": [
      "0\n",
      "1\n",
      "2\n",
      "3\n",
      "4\n",
      "5\n",
      "6\n",
      "7\n",
      "8\n",
      "9\n",
      "9\n"
     ]
    }
   ],
   "source": [
    "a = 10\n",
    "for num in range (0, a):\n",
    "    print (num)\n",
    "\n"
   ]
  },
  {
   "attachments": {},
   "cell_type": "markdown",
   "metadata": {},
   "source": [
    "6) Utilizar un ciclo while para realizar el factorial de un número guardado en una variable, sólo si la variable contiene un número entero mayor a 0"
   ]
  },
  {
   "cell_type": "code",
   "execution_count": 21,
   "metadata": {},
   "outputs": [
    {
     "name": "stdout",
     "output_type": "stream",
     "text": [
      "5040\n"
     ]
    }
   ],
   "source": [
    "n = 7\n",
    "factorial = 1\n",
    "\n",
    "if isinstance(n, int) and n > 0:\n",
    "    while n > 1:\n",
    "        factorial *= n\n",
    "        n -= 1\n",
    "    print(factorial)  # Output: 5040\n",
    "else:\n",
    "    print(\"Invalid input. Please provide a positive integer.\")"
   ]
  },
  {
   "attachments": {},
   "cell_type": "markdown",
   "metadata": {},
   "source": [
    "7) Crear un ciclo for dentro de un ciclo while"
   ]
  },
  {
   "cell_type": "code",
   "execution_count": 49,
   "metadata": {},
   "outputs": [
    {
     "name": "stdout",
     "output_type": "stream",
     "text": [
      "while loop number 5\n",
      "for loop number 1\n",
      "for loop number 2\n",
      "for loop number 3\n",
      "for loop number 4\n",
      "for loop number 5\n",
      "while loop number 6\n",
      "for loop number 1\n",
      "for loop number 2\n",
      "for loop number 3\n",
      "for loop number 4\n",
      "for loop number 5\n",
      "for loop number 6\n",
      "while loop number 7\n",
      "for loop number 1\n",
      "for loop number 2\n",
      "for loop number 3\n",
      "for loop number 4\n",
      "for loop number 5\n",
      "for loop number 6\n",
      "for loop number 7\n",
      "while loop number 8\n",
      "for loop number 1\n",
      "for loop number 2\n",
      "for loop number 3\n",
      "for loop number 4\n",
      "for loop number 5\n",
      "for loop number 6\n",
      "for loop number 7\n",
      "for loop number 8\n",
      "while loop number 9\n",
      "for loop number 1\n",
      "for loop number 2\n",
      "for loop number 3\n",
      "for loop number 4\n",
      "for loop number 5\n",
      "for loop number 6\n",
      "for loop number 7\n",
      "for loop number 8\n",
      "for loop number 9\n"
     ]
    }
   ],
   "source": [
    "num = 5\n",
    "\n",
    "while num < 10:\n",
    "    print ('while loop number', num)\n",
    "    for value in range (1 , num+1):\n",
    "        print ('for loop number', value)\n",
    "    num += 1"
   ]
  },
  {
   "attachments": {},
   "cell_type": "markdown",
   "metadata": {},
   "source": [
    "8) Crear un ciclo while dentro de un ciclo for"
   ]
  },
  {
   "cell_type": "code",
   "execution_count": 53,
   "metadata": {},
   "outputs": [
    {
     "name": "stdout",
     "output_type": "stream",
     "text": [
      "Ciclo for nro 1\n",
      "Ciclo while nro 5\n",
      "Ciclo while nro 4\n",
      "Ciclo while nro 3\n",
      "Ciclo while nro 2\n",
      "Ciclo while nro 1\n",
      "Ciclo for nro 2\n",
      "Ciclo while nro 5\n",
      "Ciclo while nro 4\n",
      "Ciclo while nro 3\n",
      "Ciclo while nro 2\n",
      "Ciclo while nro 1\n",
      "Ciclo for nro 3\n",
      "Ciclo while nro 5\n",
      "Ciclo while nro 4\n",
      "Ciclo while nro 3\n",
      "Ciclo while nro 2\n",
      "Ciclo while nro 1\n",
      "Ciclo for nro 4\n",
      "Ciclo while nro 5\n",
      "Ciclo while nro 4\n",
      "Ciclo while nro 3\n",
      "Ciclo while nro 2\n",
      "Ciclo while nro 1\n",
      "Ciclo for nro 5\n",
      "Ciclo while nro 5\n",
      "Ciclo while nro 4\n",
      "Ciclo while nro 3\n",
      "Ciclo while nro 2\n",
      "Ciclo while nro 1\n"
     ]
    }
   ],
   "source": [
    "n = 5\n",
    "for i in range(1, n+1):\n",
    "    print('Ciclo for nro ' + str(i))\n",
    "    n_temp = n\n",
    "    while(n_temp > 0):\n",
    "        print('Ciclo while nro ' + str(n_temp))\n",
    "        n_temp -= 1\n",
    "    \n",
    "    "
   ]
  },
  {
   "cell_type": "code",
   "execution_count": 54,
   "metadata": {},
   "outputs": [
    {
     "name": "stdout",
     "output_type": "stream",
     "text": [
      "Ciclo for nro 1\n",
      "Ciclo while nro 4\n",
      "Ciclo while nro 3\n",
      "Ciclo while nro 2\n",
      "Ciclo while nro 1\n",
      "Ciclo while nro 0\n",
      "Ciclo for nro 2\n",
      "Ciclo for nro 3\n",
      "Ciclo for nro 4\n"
     ]
    }
   ],
   "source": [
    "n = 5\n",
    "for i in range(1, n): \n",
    "    print('Ciclo for nro ' + str(i))\n",
    "    while(n > 0):\n",
    "        n -= 1\n",
    "        print('Ciclo while nro ' + str(n))\n",
    "       "
   ]
  },
  {
   "attachments": {},
   "cell_type": "markdown",
   "metadata": {},
   "source": [
    "9) Imprimir los números primos existentes entre 0 y 30"
   ]
  },
  {
   "cell_type": "code",
   "execution_count": 17,
   "metadata": {},
   "outputs": [
    {
     "name": "stdout",
     "output_type": "stream",
     "text": [
      "0\n",
      "1\n",
      "2\n",
      "3\n",
      "5\n",
      "7\n",
      "11\n",
      "13\n",
      "17\n",
      "19\n",
      "23\n",
      "29\n"
     ]
    }
   ],
   "source": [
    "top_number= 30\n",
    "n= 0\n",
    "# 1 and n are trivial factors for any number n. so I need to check if there is another factor of n from 2 to n-1, an if it is not print it.\n",
    "while (n < top_number):\n",
    "    prime_num = True\n",
    "    for divisor in range (2, n):\n",
    "        if (n % divisor) == 0:\n",
    "            prime_num = False #The code continues iterating until the for loop finishes, even if a divisor is found.\n",
    "    if prime_num:\n",
    "        print (n)\n",
    "        \n",
    "    n += 1\n"
   ]
  },
  {
   "attachments": {},
   "cell_type": "markdown",
   "metadata": {},
   "source": [
    "10) ¿Se puede mejorar el proceso del punto 9? Utilizar las sentencias break y/ó continue para tal fin"
   ]
  },
  {
   "cell_type": "code",
   "execution_count": 18,
   "metadata": {},
   "outputs": [
    {
     "name": "stdout",
     "output_type": "stream",
     "text": [
      "0\n",
      "1\n",
      "2\n",
      "3\n",
      "5\n",
      "7\n",
      "11\n",
      "13\n",
      "17\n",
      "19\n",
      "23\n",
      "29\n"
     ]
    }
   ],
   "source": [
    "top_number= 30\n",
    "n= 0\n",
    "# 1 and n are trivial factors for any number n. so I need to check if there is another factor of n from 2 to n-1, an if it is not print it.\n",
    "while (n < top_number):\n",
    "    prime_num = True\n",
    "    for divisor in range (2, n):\n",
    "        if (n % divisor) == 0:\n",
    "            prime_num = False\n",
    "            break # to exit the loop as soon as the first divisor if found\n",
    "    if prime_num:\n",
    "        print (n)\n",
    "        \n",
    "    n += 1\n"
   ]
  },
  {
   "attachments": {},
   "cell_type": "markdown",
   "metadata": {},
   "source": [
    "11) En los puntos 9 y 10, se diseño un código que encuentra números primos y además se lo optimizó. ¿Es posible saber en qué medida se optimizó?"
   ]
  },
  {
   "cell_type": "code",
   "execution_count": 1,
   "metadata": {},
   "outputs": [
    {
     "name": "stdout",
     "output_type": "stream",
     "text": [
      "0\n",
      "1\n",
      "2\n",
      "3\n",
      "5\n",
      "7\n",
      "11\n",
      "13\n",
      "17\n",
      "19\n",
      "23\n",
      "29\n",
      "Number of cycles with out break 378\n",
      "0\n",
      "1\n",
      "2\n",
      "3\n",
      "5\n",
      "7\n",
      "11\n",
      "13\n",
      "17\n",
      "19\n",
      "23\n",
      "29\n",
      "Number of cycles with break 134\n",
      "The optimization was 0.3544973544973545\n"
     ]
    }
   ],
   "source": [
    "num_cicles1 = 0\n",
    "top_number= 30\n",
    "n= 0\n",
    "# 1 and n are trivial factors for any number n. so I need to check if there is another factor of n from 2 to n-1, an if it is not print it.\n",
    "while (n < top_number):\n",
    "    prime_num = True\n",
    "    for divisor in range (2, n):\n",
    "        num_cicles1 += 1\n",
    "        if (n % divisor) == 0:\n",
    "            prime_num = False\n",
    "    if prime_num:\n",
    "        print (n)\n",
    "        \n",
    "    n += 1\n",
    "print (f'Number of cycles with out break {num_cicles1}')\n",
    "\n",
    "num_cicles2 = 0\n",
    "top_number= 30\n",
    "n= 0\n",
    "# 1 and n are trivial factors for any number n. so I need to check if there is another factor of n from 2 to n-1, an if it is not print it.\n",
    "while (n < top_number):\n",
    "    prime_num = True\n",
    "    for divisor in range (2, n):\n",
    "        num_cicles2 += 1\n",
    "        if (n % divisor) == 0:\n",
    "            prime_num = False\n",
    "            break\n",
    "    if prime_num:\n",
    "        print (n)\n",
    "        \n",
    "    n += 1\n",
    "print (f'Number of cycles with break {num_cicles2}')\n",
    "print ('The optimization was', str(num_cicles2/num_cicles1))"
   ]
  },
  {
   "attachments": {},
   "cell_type": "markdown",
   "metadata": {},
   "source": [
    "12) Si la cantidad de números que se evalúa es mayor a treinta, esa optimización crece?"
   ]
  },
  {
   "cell_type": "code",
   "execution_count": 4,
   "metadata": {},
   "outputs": [
    {
     "name": "stdout",
     "output_type": "stream",
     "text": [
      "0\n",
      "1\n",
      "2\n",
      "3\n",
      "5\n",
      "7\n",
      "11\n",
      "13\n",
      "17\n",
      "19\n",
      "23\n",
      "29\n",
      "31\n",
      "37\n",
      "41\n",
      "43\n",
      "47\n",
      "53\n",
      "59\n",
      "61\n",
      "67\n",
      "71\n",
      "73\n",
      "79\n",
      "83\n",
      "89\n",
      "97\n",
      "Number of cycles with out break 4753\n",
      "0\n",
      "1\n",
      "2\n",
      "3\n",
      "5\n",
      "7\n",
      "11\n",
      "13\n",
      "17\n",
      "19\n",
      "23\n",
      "29\n",
      "31\n",
      "37\n",
      "41\n",
      "43\n",
      "47\n",
      "53\n",
      "59\n",
      "61\n",
      "67\n",
      "71\n",
      "73\n",
      "79\n",
      "83\n",
      "89\n",
      "97\n",
      "Number of cycles with break 1132\n",
      "The optimization was 0.2381653692404797\n"
     ]
    }
   ],
   "source": [
    "num_cicles1 = 0\n",
    "top_number= 100\n",
    "n= 0\n",
    "# 1 and n are trivial factors for any number n. so I need to check if there is another factor of n from 2 to n-1, an if it is not print it.\n",
    "while (n < top_number):\n",
    "    prime_num = True\n",
    "    for divisor in range (2, n):\n",
    "        num_cicles1 += 1\n",
    "        if (n % divisor) == 0:\n",
    "            prime_num = False\n",
    "    if prime_num:\n",
    "        print (n)\n",
    "        \n",
    "    n += 1\n",
    "print (f'Number of cycles with out break {num_cicles1}')\n",
    "\n",
    "num_cicles2 = 0\n",
    "top_number= 100\n",
    "n= 0\n",
    "# 1 and n are trivial factors for any number n. so I need to check if there is another factor of n from 2 to n-1, an if it is not print it.\n",
    "while (n < top_number):\n",
    "    prime_num = True\n",
    "    for divisor in range (2, n):\n",
    "        num_cicles2 += 1\n",
    "        if (n % divisor) == 0:\n",
    "            prime_num = False\n",
    "            break\n",
    "    if prime_num:\n",
    "        print (n)\n",
    "        \n",
    "    n += 1\n",
    "print (f'Number of cycles with break {num_cicles2}')\n",
    "print ('The optimization was', str(num_cicles2/num_cicles1))"
   ]
  },
  {
   "attachments": {},
   "cell_type": "markdown",
   "metadata": {},
   "source": [
    "13) Aplicando continue, armar un ciclo while que solo imprima los valores divisibles por 12, dentro del rango de números de 100 a 300"
   ]
  },
  {
   "cell_type": "code",
   "execution_count": 32,
   "metadata": {},
   "outputs": [
    {
     "name": "stdout",
     "output_type": "stream",
     "text": [
      "code with out continue\n",
      "108\n",
      "120\n",
      "132\n",
      "144\n",
      "156\n",
      "168\n",
      "180\n",
      "192\n",
      "204\n",
      "216\n",
      "228\n",
      "240\n",
      "252\n",
      "264\n",
      "276\n",
      "288\n",
      "300\n",
      "code with continue\n",
      "108\n",
      "120\n",
      "132\n",
      "144\n",
      "156\n",
      "168\n",
      "180\n",
      "192\n",
      "204\n",
      "216\n",
      "228\n",
      "240\n",
      "252\n",
      "264\n",
      "276\n",
      "288\n",
      "300\n"
     ]
    }
   ],
   "source": [
    "n1 = 100\n",
    "n2 = 300\n",
    "print('code with out continue')\n",
    "while n1 <= n2:\n",
    "    divisible12= False\n",
    "    if n1 % 12 == 0:\n",
    "        divisible12 = True\n",
    "    \n",
    "        if divisible12:\n",
    "            print (n1)\n",
    "    \n",
    "    n1 += 1\n",
    "\n",
    "n1 = 100\n",
    "n2 = 300\n",
    "print('code with continue')\n",
    "while n1 <= n2:\n",
    "    if n1 % 12 != 0:\n",
    "        n1 += 1\n",
    "        continue\n",
    "     \n",
    "    print (n1)\n",
    "    n1 += 1\n",
    "        "
   ]
  },
  {
   "attachments": {},
   "cell_type": "markdown",
   "metadata": {},
   "source": [
    "14) Utilizar la función **input()** que permite hacer ingresos por teclado, para encontrar números primos y dar la opción al usario de buscar el siguiente"
   ]
  },
  {
   "cell_type": "code",
   "execution_count": 16,
   "metadata": {},
   "outputs": [
    {
     "name": "stdout",
     "output_type": "stream",
     "text": [
      "2 is a prime number\n",
      "Se finaliza el programa\n"
     ]
    }
   ],
   "source": [
    "while True:\n",
    "\n",
    "    n = int(input ('Ingresa un numero mayor a uno '))\n",
    "    if n <= 1:\n",
    "            print ('El numero debe ser mayor a uno. Intentalo de nuevo:')\n",
    "            continue\n",
    "\n",
    "    for divisor in range (2, n+1):\n",
    "        prime_num = True\n",
    "        if (n % divisor) == 0 and divisor != n:\n",
    "            prime_num = False\n",
    "            break\n",
    "    if prime_num:\n",
    "        print (f'{n} is a prime number')\n",
    "\n",
    "    else:\n",
    "        print (f'{n} is not a prime number. Try again')\n",
    "    \n",
    "    user_choice = input('Deseas continuar? s/n: ')\n",
    "    \n",
    "    if user_choice != 's':\n",
    "        print ('Se finaliza el programa')\n",
    "        break\n",
    "\n",
    "        \n",
    "    \n",
    "\n"
   ]
  },
  {
   "attachments": {},
   "cell_type": "markdown",
   "metadata": {},
   "source": [
    "15) Crear un ciclo while que encuentre dentro del rango de 100 a 300 el primer número divisible por 3 y además múltiplo de 6"
   ]
  },
  {
   "cell_type": "code",
   "execution_count": 4,
   "metadata": {},
   "outputs": [
    {
     "name": "stdout",
     "output_type": "stream",
     "text": [
      "102\n"
     ]
    }
   ],
   "source": [
    "n = 100\n",
    "\n",
    "\n",
    "while (n <= 300):\n",
    "    if n % 3 == 0 and n % 6 == 0:\n",
    "        print (n)\n",
    "        break #to exit the loop as soon as the first number is found\n",
    "\n",
    "    n += 1 #if is not found it will increase n and continue searching\n",
    "\n",
    "\n"
   ]
  }
 ],
 "metadata": {
  "interpreter": {
   "hash": "c85384e4cb51c8b72350f3a8712cc8351fdc3955e32a27f9b60c6242ab125f01"
  },
  "kernelspec": {
   "display_name": "Python 3 (ipykernel)",
   "language": "python",
   "name": "python3"
  },
  "language_info": {
   "codemirror_mode": {
    "name": "ipython",
    "version": 3
   },
   "file_extension": ".py",
   "mimetype": "text/x-python",
   "name": "python",
   "nbconvert_exporter": "python",
   "pygments_lexer": "ipython3",
   "version": "3.10.11"
  }
 },
 "nbformat": 4,
 "nbformat_minor": 4
}
