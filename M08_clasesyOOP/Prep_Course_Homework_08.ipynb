{
 "cells": [
  {
   "attachments": {},
   "cell_type": "markdown",
   "metadata": {},
   "source": [
    "## Clases y Programación Orientada a Objetos"
   ]
  },
  {
   "attachments": {},
   "cell_type": "markdown",
   "metadata": {},
   "source": [
    "1) Crear la clase vehículo que contenga los atributos:<br>\n",
    "Color<br>\n",
    "Si es moto, auto, camioneta ó camión<br>\n",
    "Cilindrada del motor"
   ]
  },
  {
   "cell_type": "code",
   "execution_count": 36,
   "metadata": {},
   "outputs": [],
   "source": [
    "class Vehiculo:\n",
    "    def __init__ (self, color, type, motor):\n",
    "        self.color = color\n",
    "        self.type = type\n",
    "        self.motor = motor\n",
    "        "
   ]
  },
  {
   "attachments": {},
   "cell_type": "markdown",
   "metadata": {},
   "source": [
    "2) A la clase Vehiculo creada en el punto 1, agregar los siguientes métodos:<br>\n",
    "Acelerar<br>\n",
    "Frenar<br>\n",
    "Doblar<br>"
   ]
  },
  {
   "cell_type": "code",
   "execution_count": 37,
   "metadata": {},
   "outputs": [],
   "source": [
    "class Vehiculo:\n",
    "    def __init__ (self, color, type, motor):\n",
    "        self.color = color\n",
    "        self.type = type\n",
    "        self.motor = motor\n",
    "        self.speed = 0\n",
    "        self.direction = 0\n",
    "        \n",
    "    def Acelerar (self, vel):\n",
    "        self. speed += vel\n",
    "    def Frenar (self, vel):\n",
    "        self. speed -= vel\n",
    "    def Doblar (self, dir):\n",
    "        self.direction += dir\n"
   ]
  },
  {
   "attachments": {},
   "cell_type": "markdown",
   "metadata": {},
   "source": [
    "3) Instanciar 3 objetos de la clase vehículo y ejecutar sus métodos, probar luego el resultado"
   ]
  },
  {
   "cell_type": "code",
   "execution_count": 38,
   "metadata": {},
   "outputs": [
    {
     "name": "stdout",
     "output_type": "stream",
     "text": [
      "v1 is color red\n",
      "v2 has a motor of 1.3\n",
      "None\n",
      "None\n"
     ]
    }
   ],
   "source": [
    "v1 = Vehiculo (\"red\", \"moto\", 1.6)\n",
    "print(\"v1 is color\", v1.color)\n",
    "v2 = Vehiculo ('white', 'auto', 1.3 )\n",
    "print ('v2 has a motor of', v2.motor)\n",
    "v3= Vehiculo ('red', 'camioneta', 1.8)\n",
    "\n",
    "print (v3.Acelerar(50))\n",
    "print (v3.Frenar(20))\n"
   ]
  },
  {
   "attachments": {},
   "cell_type": "markdown",
   "metadata": {},
   "source": [
    "4) Agregar a la clase Vehiculo, un método que muestre su estado, es decir, a que velocidad se encuentra y su dirección. Y otro método que muestre color, tipo y cilindrada"
   ]
  },
  {
   "cell_type": "code",
   "execution_count": 39,
   "metadata": {},
   "outputs": [],
   "source": [
    "class Vehiculo:\n",
    "    def __init__ (self, color, type, motor):\n",
    "        self.color = color\n",
    "        self.type = type\n",
    "        self.motor = motor\n",
    "        self.speed = 0\n",
    "        self.direction = 0\n",
    "        \n",
    "    def Acelerar (self, vel):\n",
    "        self.speed += vel\n",
    "    def Frenar (self, vel):\n",
    "        self.speed -= vel\n",
    "    def Doblar (self, dir):\n",
    "        self.direction += dir\n",
    "    def Estado (self):\n",
    "        print ('Speed:', self.speed, 'Direction:', self.direction)\n",
    "    def Vehicle (self):\n",
    "        print (self.type, 'of color', self.color, 'and motor', self.motor)"
   ]
  },
  {
   "cell_type": "code",
   "execution_count": 40,
   "metadata": {},
   "outputs": [
    {
     "name": "stdout",
     "output_type": "stream",
     "text": [
      "Speed: 90 Direction: 0\n",
      "moto of color red and motor 1.6\n"
     ]
    }
   ],
   "source": [
    "v1 = Vehiculo (\"red\", \"moto\", 1.6)\n",
    "v1.Acelerar(100)\n",
    "v1.Frenar(10)\n",
    "\n",
    "v1.Estado()\n",
    "v1.Vehicle()"
   ]
  },
  {
   "attachments": {},
   "cell_type": "markdown",
   "metadata": {},
   "source": [
    "5) Crear una clase que permita utilizar las funciones creadas en la práctica del módulo 7<br>\n",
    "Verificar Primo<br>\n",
    "Valor modal<br>\n",
    "Conversión grados<br>\n",
    "Factorial<br>"
   ]
  },
  {
   "cell_type": "code",
   "execution_count": 41,
   "metadata": {},
   "outputs": [],
   "source": [
    "class Math:\n",
    "    def __init__(self) -> None: #indicates that the method does not return any value\n",
    "        pass\n",
    "        \n",
    "    def Primo (self, n):\n",
    "        ''' \n",
    "        Function that informs if a number is a prime number (True) or not (False)\n",
    "        '''\n",
    "        is_prime= True\n",
    "        for div in (range (2, n)):\n",
    "            if (n % div) == 0:\n",
    "                is_prime= False\n",
    "                break\n",
    "        return is_prime\n",
    "\n",
    "\n",
    "    def Moda (self, lis):\n",
    "        '''\n",
    "        returns the mode and number of repetitios from a list\n",
    "        '''\n",
    "        counts = {} #create an empty dictionary\n",
    "        for num in lis:\n",
    "            if num in counts:\n",
    "                counts[num] += 1 #I will increse the value of the num Key in one digit\n",
    "            else:\n",
    "                counts[num] = 1 #I will insert the numas a key, and the 1 as a value\n",
    "\n",
    "        mode = max(counts, key=counts.get) #key=counts.get is used to compare the elements of the counts dictionary based on their corresponding values (repetition counts).\n",
    "        # I find the element with the max count\n",
    "        repetitions = counts[mode]\n",
    "\n",
    "        return mode, repetitions\n",
    "      \n",
    "        \n",
    "    def Temp_convertor (self, value, inp, outp):\n",
    "        '''\n",
    "        converts temperatures values for C (celsius), F (farenheit), and K(kelvin)\n",
    "        '''\n",
    "        temp = 0  # Initialize temp with a default value. This will prevent the UnboundLocalError.\n",
    "        if inp == 'C':\n",
    "            if outp == 'C':\n",
    "                temp = value\n",
    "            elif outp == 'F':\n",
    "                temp = (value * 9/5) + 32\n",
    "            elif outp == 'K':\n",
    "                temp = value + 273.15\n",
    "                \n",
    "        if inp == 'F':\n",
    "            if outp == 'F':\n",
    "                temp = value\n",
    "            elif outp == 'C':\n",
    "                temp = (value - 32) * 5/9\n",
    "            elif outp == 'K':\n",
    "                temp = (value -32) * 5/9 + 273.15\n",
    "\n",
    "        if inp == 'K':\n",
    "            if outp == 'K':\n",
    "                temp = value\n",
    "            if outp == 'C':\n",
    "                temp = value - 273.15\n",
    "            elif outp == 'F':\n",
    "                temp = ((value - 273.15) * 9/5) +32\n",
    "        \n",
    "        return temp\n",
    "\n",
    "      \n",
    "    def Factorial (self, n):\n",
    "        f = 1 \n",
    "        initial_n = n #store the initial value so I can call it later\n",
    "\n",
    "        if type(n) != int or n < 0:\n",
    "            print (f'{n} is not a valid number. Enter a positive natural number')\n",
    "        elif isinstance (n, int):\n",
    "            while n > 0:\n",
    "                f = f * n\n",
    "                n -= 1\n",
    "            return f\n",
    "            \n",
    "\n",
    "\n",
    "\n"
   ]
  },
  {
   "attachments": {},
   "cell_type": "markdown",
   "metadata": {},
   "source": [
    "6) Probar las funciones incorporadas en la clase del punto 5"
   ]
  },
  {
   "cell_type": "code",
   "execution_count": 42,
   "metadata": {},
   "outputs": [
    {
     "name": "stdout",
     "output_type": "stream",
     "text": [
      "120 68.0 (2, 3)\n"
     ]
    }
   ],
   "source": [
    "math_functions = Math()\n",
    "listdata= [1, 2, 2, 2, 5, 5]\n",
    "print (math_functions.Factorial(5), math_functions.Temp_convertor(20,'C', 'F'), math_functions.Moda(listdata))"
   ]
  },
  {
   "attachments": {},
   "cell_type": "markdown",
   "metadata": {},
   "source": [
    "7) Es necesario que la clase creada en el punto 5 contenga una lista, sobre la cual se apliquen las funciones incorporadas"
   ]
  },
  {
   "cell_type": "code",
   "execution_count": 43,
   "metadata": {},
   "outputs": [],
   "source": [
    "class Math:\n",
    "    def __init__(self, list_data):\n",
    "        self.list= list_data\n",
    "        '''\n",
    "        Math allows to perform several fuctions from an imported list \n",
    "        '''\n",
    "        \n",
    "    def __Primo (self, n):#private method for calculation. Recieves a number n\n",
    "        ''' \n",
    "        Function that informs if a number is a prime number (True) or not (False)\n",
    "        '''\n",
    "        is_prime= True\n",
    "        for div in (range (2, n)):\n",
    "            if (n % div) == 0:\n",
    "                is_prime= False\n",
    "                break\n",
    "        return is_prime\n",
    "    \n",
    "    def Primo (self):\n",
    "        for n in self.list:\n",
    "            if self.__Primo(n):\n",
    "                print (f'{n} is a Prime number')\n",
    "            else:\n",
    "                print (f'{n} is a Complex number')\n",
    "\n",
    "    def Moda (self):\n",
    "        '''\n",
    "        returns the mode and number of repetitios from a list\n",
    "        '''\n",
    "        counts = {} #create an empty dictionary\n",
    "        list = self.list\n",
    "        for num in list:\n",
    "            if num in counts:\n",
    "                counts[num] += 1 #I will increse the value of the num Key in one digit\n",
    "            else:\n",
    "                counts[num] = 1 #I will insert the numas a key, and the 1 as a value\n",
    "\n",
    "        mode = max(counts, key=counts.get) #key=counts.get is used to compare the elements of the counts dictionary based on their corresponding values (repetition counts).\n",
    "        # I find the element with the max count\n",
    "        repetitions = counts[mode]\n",
    "\n",
    "        return mode, repetitions\n",
    "    \n",
    "          \n",
    "        \n",
    "    def __Temp_convertor (self, value, inp, outp): #here I calculate the conversion. This is a private method, indicated by the double underscore prefix (__).\n",
    "            '''\n",
    "            converts temperatures values for C (celsius), F (farenheit), and K(kelvin)\n",
    "            '''\n",
    "            temp = 0  # Initialize temp with a default value. This will prevent the UnboundLocalError.\n",
    "            if inp == 'C':\n",
    "                    if outp == 'C':\n",
    "                        temp = value\n",
    "                    elif outp == 'F':\n",
    "                        temp = (value * 9/5) + 32\n",
    "                    elif outp == 'K':\n",
    "                        temp = value + 273.15\n",
    "                        \n",
    "            if inp == 'F':\n",
    "                if outp == 'F':\n",
    "                    temp = value\n",
    "                elif outp == 'C':\n",
    "                    temp = (value - 32) * 5/9\n",
    "                elif outp == 'K':\n",
    "                    temp = (value -32) * 5/9 + 273.15\n",
    "\n",
    "            if inp == 'K':\n",
    "                if outp == 'K':\n",
    "                    temp = value\n",
    "                if outp == 'C':\n",
    "                    temp = value - 273.15\n",
    "                elif outp == 'F':\n",
    "                    temp = ((value - 273.15) * 9/5) +32\n",
    "\n",
    "            return temp\n",
    "    \n",
    "    def Temp_convertor (self, inp, outp): # is a public method, accessible from outside the class,\n",
    "        for value in self.list:  #here I iterate value from the list\n",
    "            print(value, inp, 'equals to', self.__Temp_convertor(value, inp, outp), outp)\n",
    "\n",
    "\n",
    "      \n",
    "    def __Factorial (self, n):\n",
    "        f = 1 \n",
    "        initial_n = n #store the initial value so I can call it later\n",
    "        if type(n) != int or n < 0:\n",
    "            print (f'{n} is not a valid number. Enter a positive natural number')\n",
    "            return None\n",
    "        elif isinstance (n, int):\n",
    "            while n > 0:\n",
    "                f = f * n\n",
    "                n -= 1 \n",
    "            return f\n",
    "        else:\n",
    "            return None\n",
    "        \n",
    "    def Factorial (self):\n",
    "        for n in self.list:\n",
    "            print('The factorial of', n, 'is', self.__Factorial(n))"
   ]
  },
  {
   "cell_type": "code",
   "execution_count": 44,
   "metadata": {},
   "outputs": [
    {
     "name": "stdout",
     "output_type": "stream",
     "text": [
      "(2, 3)\n",
      "1 is a Prime number\n",
      "2 is a Prime number\n",
      "2 is a Prime number\n",
      "2 is a Prime number\n",
      "5 is a Prime number\n",
      "5 is a Prime number\n",
      "None\n",
      "1 C equals to 33.8 F\n",
      "2 C equals to 35.6 F\n",
      "2 C equals to 35.6 F\n",
      "2 C equals to 35.6 F\n",
      "5 C equals to 41.0 F\n",
      "5 C equals to 41.0 F\n",
      "None\n",
      "The factorial of 1 is 1\n",
      "The factorial of 2 is 2\n",
      "The factorial of 2 is 2\n",
      "The factorial of 2 is 2\n",
      "The factorial of 5 is 120\n",
      "The factorial of 5 is 120\n",
      "None\n"
     ]
    }
   ],
   "source": [
    "#print(listdata)\n",
    "math = Math(listdata)\n",
    "print(math.Moda())\n",
    "print(math.Primo())\n",
    "print(math.Temp_convertor('C','F'))\n",
    "print(math.Factorial())"
   ]
  },
  {
   "attachments": {},
   "cell_type": "markdown",
   "metadata": {},
   "source": [
    "8) Crear un archivo .py aparte y ubicar allí la clase generada en el punto anterior. Luego realizar la importación del módulo y probar alguna de sus funciones"
   ]
  },
  {
   "cell_type": "code",
   "execution_count": 47,
   "metadata": {},
   "outputs": [],
   "source": [
    "import Math_tools as m"
   ]
  },
  {
   "cell_type": "code",
   "execution_count": 48,
   "metadata": {},
   "outputs": [],
   "source": [
    "h2 = m.Math([1,1,2,3,5,6,8,8])"
   ]
  },
  {
   "cell_type": "code",
   "execution_count": 49,
   "metadata": {},
   "outputs": [
    {
     "name": "stdout",
     "output_type": "stream",
     "text": [
      "1 is a Prime number\n",
      "1 is a Prime number\n",
      "2 is a Prime number\n",
      "3 is a Prime number\n",
      "5 is a Prime number\n",
      "6 is a Complex number\n",
      "8 is a Complex number\n",
      "8 is a Complex number\n",
      "The factorial of 1 is 1\n",
      "The factorial of 1 is 1\n",
      "The factorial of 2 is 2\n",
      "The factorial of 3 is 6\n",
      "The factorial of 5 is 120\n",
      "The factorial of 6 is 720\n",
      "The factorial of 8 is 40320\n",
      "The factorial of 8 is 40320\n",
      "1 C equals to 33.8 F\n",
      "1 C equals to 33.8 F\n",
      "2 C equals to 35.6 F\n",
      "3 C equals to 37.4 F\n",
      "5 C equals to 41.0 F\n",
      "6 C equals to 42.8 F\n",
      "8 C equals to 46.4 F\n",
      "8 C equals to 46.4 F\n"
     ]
    }
   ],
   "source": [
    "h2.Primo()\n",
    "h2.Factorial()\n",
    "h2.Moda()\n",
    "h2.Temp_convertor('C', 'F')"
   ]
  }
 ],
 "metadata": {
  "interpreter": {
   "hash": "c85384e4cb51c8b72350f3a8712cc8351fdc3955e32a27f9b60c6242ab125f01"
  },
  "kernelspec": {
   "display_name": "Python 3 (ipykernel)",
   "language": "python",
   "name": "python3"
  },
  "language_info": {
   "codemirror_mode": {
    "name": "ipython",
    "version": 3
   },
   "file_extension": ".py",
   "mimetype": "text/x-python",
   "name": "python",
   "nbconvert_exporter": "python",
   "pygments_lexer": "ipython3",
   "version": "3.10.11"
  }
 },
 "nbformat": 4,
 "nbformat_minor": 4
}
