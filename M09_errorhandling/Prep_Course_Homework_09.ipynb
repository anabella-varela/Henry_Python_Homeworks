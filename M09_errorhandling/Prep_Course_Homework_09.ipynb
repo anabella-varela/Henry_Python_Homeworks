{
 "cells": [
  {
   "attachments": {},
   "cell_type": "markdown",
   "metadata": {},
   "source": [
    "## Manejo de errores"
   ]
  },
  {
   "attachments": {},
   "cell_type": "markdown",
   "metadata": {},
   "source": [
    "1) Con la clase creada en el módulo 7, tener en cuenta diferentes casos en que el código pudiera arrojar error. Por ejemplo, en la creación del objeto recibimos una lista de números enteros pero ¿qué pasa si se envía otro tipo de dato?"
   ]
  },
  {
   "cell_type": "code",
   "execution_count": 1,
   "metadata": {},
   "outputs": [],
   "source": [
    "import my_tools as m"
   ]
  },
  {
   "cell_type": "code",
   "execution_count": null,
   "metadata": {},
   "outputs": [],
   "source": [
    "test = m.Math((1, 2, 3))"
   ]
  },
  {
   "cell_type": "code",
   "execution_count": 2,
   "metadata": {},
   "outputs": [
    {
     "name": "stdout",
     "output_type": "stream",
     "text": [
      "[2, 3, 5, 6, 2]\n"
     ]
    }
   ],
   "source": [
    "test_a = m.Math([2,3,5,6,2]) #The Math class from the m module is initialized with a list [2,3,5,6,2]\n",
    "print(test_a.list) # for accessing the list attribute of the test_a instance.\n"
   ]
  },
  {
   "cell_type": "code",
   "execution_count": 3,
   "metadata": {},
   "outputs": [
    {
     "name": "stdout",
     "output_type": "stream",
     "text": [
      "[2, 6, 120, 720, 2]\n",
      "[False, True, True, False, False]\n",
      "(2, 2)\n"
     ]
    }
   ],
   "source": [
    "print(test_a.Factorial())\n",
    "print(test_a.Primo())\n",
    "print(test_a.Moda())"
   ]
  },
  {
   "attachments": {},
   "cell_type": "markdown",
   "metadata": {},
   "source": [
    "2) En la función que hace la conversión de grados, validar que los parámetros enviados sean los esperados, de no serlo, informar cuáles son los valores esperados."
   ]
  },
  {
   "cell_type": "code",
   "execution_count": 23,
   "metadata": {},
   "outputs": [
    {
     "data": {
      "text/plain": [
       "<module 'my_tools' from 'f:\\\\Documentos\\\\2. Anabella\\\\0. SOY_HENRY\\\\Python-Prep\\\\M09_errorhandling\\\\my_tools.py'>"
      ]
     },
     "execution_count": 23,
     "metadata": {},
     "output_type": "execute_result"
    }
   ],
   "source": [
    "import importlib\n",
    "importlib.reload(m)  # for reload the module m"
   ]
  },
  {
   "cell_type": "code",
   "execution_count": 4,
   "metadata": {},
   "outputs": [
    {
     "name": "stdout",
     "output_type": "stream",
     "text": [
      " e is not a valid input. Insert ['C', 'F', 'K'] for celsius, farenheid or kelvin\n"
     ]
    },
    {
     "data": {
      "text/plain": [
       "[0, 0, 0, 0, 0]"
      ]
     },
     "execution_count": 4,
     "metadata": {},
     "output_type": "execute_result"
    }
   ],
   "source": [
    "test_a.Temp_convertor( 'e', 'F')"
   ]
  },
  {
   "attachments": {},
   "cell_type": "markdown",
   "metadata": {},
   "source": [
    "3) Importar el modulo \"unittest\" y crear los siguientes casos de pruebas sobre la clase utilizada en el punto 2<br>\n",
    "Creacion del objeto incorrecta<br>\n",
    "Creacion correcta del objeto<br>\n",
    "Metodo valor_modal()<br>\n",
    "\n",
    "Se puede usar \"raise ValueError()\" en la creación de la clase para verificar el error. Investigar sobre esta funcionalidad."
   ]
  },
  {
   "cell_type": "code",
   "execution_count": 5,
   "metadata": {},
   "outputs": [],
   "source": [
    "import unittest\n",
    "\n",
    "class Test_mytools(unittest.TestCase): \n",
    "    \n",
    "    def test_wrong_object_creation (self): #Test methods in unittest classes must start with the word \"test\" to be recognized as test cases.\n",
    "        l = 'I am a string not a list'\n",
    "        self.assertRaises(ValueError, m.Math, l) #self.assertRaises is a method provided by unittest.TestCase. It takes two main arguments: the expected exception type (ValueError in this case) and the callable object to be tested (m.Math constructor with the param parameter)\n",
    "        #the test case is checking that when h.Herramientas is called with the parameter 'hola', it raises a ValueError exception. If the exception is raised, the test case is considered successful. If the exception is not raised or a different exception is raised, the test case fails.\n",
    "\n",
    "    def test_right_object_creation (self):\n",
    "        lis = [1, 2, 2, 2] \n",
    "        t1 = m.Math(lis) #creat the instance of the class Math\n",
    "        self.assertEqual(t1.list, lis)\n",
    "\n",
    "    def test_moda (self):\n",
    "        l= [1,2,2,3]\n",
    "        t2= m.Math(l)\n",
    "        result1 = [2, 2]\n",
    "        result2 = list(t2.Moda())\n",
    "        self.assertEqual(result1, result2)\n"
   ]
  },
  {
   "cell_type": "code",
   "execution_count": 6,
   "metadata": {},
   "outputs": [
    {
     "name": "stderr",
     "output_type": "stream",
     "text": [
      "test_moda (__main__.Test_mytools) ... ok\n",
      "test_right_object_creation (__main__.Test_mytools) ... ok\n",
      "test_wrong_object_creation (__main__.Test_mytools) ... ok\n",
      "\n",
      "----------------------------------------------------------------------\n",
      "Ran 3 tests in 0.005s\n",
      "\n",
      "OK\n"
     ]
    },
    {
     "data": {
      "text/plain": [
       "<unittest.main.TestProgram at 0x21bbfc4a4a0>"
      ]
     },
     "execution_count": 6,
     "metadata": {},
     "output_type": "execute_result"
    }
   ],
   "source": [
    "unittest.main(argv=[''], verbosity=2, exit=False)"
   ]
  },
  {
   "attachments": {},
   "cell_type": "markdown",
   "metadata": {},
   "source": [
    "4) Probar una creación incorrecta y visualizar la salida del \"raise\""
   ]
  },
  {
   "cell_type": "code",
   "execution_count": null,
   "metadata": {},
   "outputs": [],
   "source": [
    "a= 'I am a string'\n",
    "instanceMath = m.Math(a)"
   ]
  },
  {
   "attachments": {},
   "cell_type": "markdown",
   "metadata": {},
   "source": [
    "6) Agregar casos de pruebas para el método verifica_primos() realizando el cambio en la clase, para que devuelva una lista de True o False en función de que el elemento en la posisicón sea o no primo"
   ]
  },
  {
   "cell_type": "code",
   "execution_count": 21,
   "metadata": {},
   "outputs": [],
   "source": [
    "class Test_mytools2(unittest.TestCase): \n",
    "    \n",
    "    def test_primo (self):\n",
    "        a = [2, 3, 8, 10, 13]\n",
    "        o = m.Math(a)\n",
    "        a_result = [True, True, False, False, True]\n",
    "        o_result = o.Primo()\n",
    "        self.assertEqual (a_result, o_result)\n",
    "\n",
    "        "
   ]
  },
  {
   "cell_type": "code",
   "execution_count": 24,
   "metadata": {},
   "outputs": [
    {
     "data": {
      "text/plain": [
       "<module 'my_tools' from 'f:\\\\Documentos\\\\2. Anabella\\\\0. SOY_HENRY\\\\Python-Prep\\\\M09_errorhandling\\\\my_tools.py'>"
      ]
     },
     "execution_count": 24,
     "metadata": {},
     "output_type": "execute_result"
    }
   ],
   "source": [
    "importlib.reload(m)  # for reload the module m"
   ]
  },
  {
   "cell_type": "code",
   "execution_count": 25,
   "metadata": {},
   "outputs": [
    {
     "name": "stderr",
     "output_type": "stream",
     "text": [
      "test_Temp_convertor (__main__.Test_c) ... ok\n",
      "test_moda (__main__.Test_mytools) ... ok\n",
      "test_right_object_creation (__main__.Test_mytools) ... ok\n",
      "test_wrong_object_creation (__main__.Test_mytools) ... ok\n",
      "test_primo (__main__.Test_mytools2) ... FAIL\n",
      "test_Temp_convertor (__main__.Test_mytools3) ... ok\n",
      "test_Factorial (__main__.Test_mytools4) ... ok\n",
      "\n",
      "======================================================================\n",
      "FAIL: test_primo (__main__.Test_mytools2)\n",
      "----------------------------------------------------------------------\n",
      "Traceback (most recent call last):\n",
      "  File \"C:\\Users\\Javi\\AppData\\Local\\Temp\\ipykernel_7024\\1260462613.py\", line 8, in test_primo\n",
      "    self.assertEqual (a_result, o_result)\n",
      "AssertionError: Lists differ: [True, True, False, False, True] != [False, True, False, False, True]\n",
      "\n",
      "First differing element 0:\n",
      "True\n",
      "False\n",
      "\n",
      "- [True, True, False, False, True]\n",
      "+ [False, True, False, False, True]\n",
      "\n",
      "----------------------------------------------------------------------\n",
      "Ran 7 tests in 0.010s\n",
      "\n",
      "FAILED (failures=1)\n"
     ]
    },
    {
     "data": {
      "text/plain": [
       "<unittest.main.TestProgram at 0x21bc03b0220>"
      ]
     },
     "execution_count": 25,
     "metadata": {},
     "output_type": "execute_result"
    }
   ],
   "source": [
    "unittest.main(argv=[''], verbosity=2, exit=False)"
   ]
  },
  {
   "attachments": {},
   "cell_type": "markdown",
   "metadata": {},
   "source": [
    "7) Agregar casos de pruebas para el método conversion_grados()"
   ]
  },
  {
   "cell_type": "code",
   "execution_count": 15,
   "metadata": {},
   "outputs": [],
   "source": [
    "class Test_mytools3(unittest.TestCase):\n",
    "    def test_Temp_convertor(self):\n",
    "        a = m.Math([2, 3, 8, 10, 13])\n",
    "        result1 = a.Temp_convertor('C', 'F')\n",
    "        result2 = [35.6, 37.4, 46.4, 50.0, 55.4]\n",
    "        self.assertEqual(result1, result2)\n",
    "    "
   ]
  },
  {
   "cell_type": "code",
   "execution_count": 16,
   "metadata": {},
   "outputs": [
    {
     "name": "stderr",
     "output_type": "stream",
     "text": [
      "test_Temp_convertor (__main__.Test_c) ... ok\n",
      "test_moda (__main__.Test_mytools) ... ok\n",
      "test_right_object_creation (__main__.Test_mytools) ... ok\n",
      "test_wrong_object_creation (__main__.Test_mytools) ... ok\n",
      "test_primo (__main__.Test_mytools2) ... FAIL\n",
      "test_Temp_convertor (__main__.Test_mytools3) ... ok\n",
      "\n",
      "======================================================================\n",
      "FAIL: test_primo (__main__.Test_mytools2)\n",
      "----------------------------------------------------------------------\n",
      "Traceback (most recent call last):\n",
      "  File \"C:\\Users\\Javi\\AppData\\Local\\Temp\\ipykernel_7024\\1260462613.py\", line 8, in test_primo\n",
      "    self.assertEqual (a_result, o_result)\n",
      "AssertionError: Lists differ: [True, True, False, False, True] != [False, True, False, False, True]\n",
      "\n",
      "First differing element 0:\n",
      "True\n",
      "False\n",
      "\n",
      "- [True, True, False, False, True]\n",
      "+ [False, True, False, False, True]\n",
      "\n",
      "----------------------------------------------------------------------\n",
      "Ran 6 tests in 0.010s\n",
      "\n",
      "FAILED (failures=1)\n"
     ]
    },
    {
     "data": {
      "text/plain": [
       "<unittest.main.TestProgram at 0x21bc01ec0a0>"
      ]
     },
     "execution_count": 16,
     "metadata": {},
     "output_type": "execute_result"
    }
   ],
   "source": [
    "\n",
    "unittest.main(argv=[''], verbosity=2, exit=False)"
   ]
  },
  {
   "cell_type": "code",
   "execution_count": null,
   "metadata": {},
   "outputs": [],
   "source": [
    "a = m.Math([2, 3, 8, 10, 13])\n",
    "a.Factorial()"
   ]
  },
  {
   "attachments": {},
   "cell_type": "markdown",
   "metadata": {},
   "source": [
    "8) Agregar casos de pruebas para el método factorial()"
   ]
  },
  {
   "cell_type": "code",
   "execution_count": 17,
   "metadata": {},
   "outputs": [],
   "source": [
    "class Test_mytools4(unittest.TestCase):\n",
    "    def test_Factorial(self):\n",
    "        a = m.Math([2, 3, 8, 10, 13])\n",
    "        result1 = a.Factorial()\n",
    "        result2 = [2, 6, 40320, 3628800, 6227020800]\n",
    "        self.assertEqual(result1, result2)\n",
    "\n",
    "\n"
   ]
  },
  {
   "cell_type": "code",
   "execution_count": 18,
   "metadata": {},
   "outputs": [
    {
     "name": "stderr",
     "output_type": "stream",
     "text": [
      "test_Temp_convertor (__main__.Test_c) ... ok\n",
      "test_moda (__main__.Test_mytools) ... ok\n",
      "test_right_object_creation (__main__.Test_mytools) ... ok\n",
      "test_wrong_object_creation (__main__.Test_mytools) ... ok\n",
      "test_primo (__main__.Test_mytools2) ... FAIL\n",
      "test_Temp_convertor (__main__.Test_mytools3) ... ok\n",
      "test_Factorial (__main__.Test_mytools4) ... ok\n",
      "\n",
      "======================================================================\n",
      "FAIL: test_primo (__main__.Test_mytools2)\n",
      "----------------------------------------------------------------------\n",
      "Traceback (most recent call last):\n",
      "  File \"C:\\Users\\Javi\\AppData\\Local\\Temp\\ipykernel_7024\\1260462613.py\", line 8, in test_primo\n",
      "    self.assertEqual (a_result, o_result)\n",
      "AssertionError: Lists differ: [True, True, False, False, True] != [False, True, False, False, True]\n",
      "\n",
      "First differing element 0:\n",
      "True\n",
      "False\n",
      "\n",
      "- [True, True, False, False, True]\n",
      "+ [False, True, False, False, True]\n",
      "\n",
      "----------------------------------------------------------------------\n",
      "Ran 7 tests in 0.010s\n",
      "\n",
      "FAILED (failures=1)\n"
     ]
    },
    {
     "data": {
      "text/plain": [
       "<unittest.main.TestProgram at 0x21bbfda3040>"
      ]
     },
     "execution_count": 18,
     "metadata": {},
     "output_type": "execute_result"
    }
   ],
   "source": [
    "unittest.main(argv=[''], verbosity=2, exit=False)"
   ]
  }
 ],
 "metadata": {
  "interpreter": {
   "hash": "c85384e4cb51c8b72350f3a8712cc8351fdc3955e32a27f9b60c6242ab125f01"
  },
  "kernelspec": {
   "display_name": "Python 3 (ipykernel)",
   "language": "python",
   "name": "python3"
  },
  "language_info": {
   "codemirror_mode": {
    "name": "ipython",
    "version": 3
   },
   "file_extension": ".py",
   "mimetype": "text/x-python",
   "name": "python",
   "nbconvert_exporter": "python",
   "pygments_lexer": "ipython3",
   "version": "3.10.11"
  }
 },
 "nbformat": 4,
 "nbformat_minor": 4
}
